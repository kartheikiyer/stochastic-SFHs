{
 "cells": [
  {
   "cell_type": "code",
   "execution_count": 1,
   "metadata": {
    "collapsed": true
   },
   "outputs": [],
   "source": [
    "import numpy as np\n",
    "import matplotlib.pyplot as plt\n",
    "from tqdm import tqdm"
   ]
  },
  {
   "cell_type": "code",
   "execution_count": 2,
   "metadata": {
    "collapsed": true
   },
   "outputs": [],
   "source": [
    " # gas is given by the equations\n",
    "\n",
    "Xh = np.random.random()\n",
    "Xw = np.random.random()*(1-Xh)\n",
    "Xc = 1-Xh-Xw\n"
   ]
  },
  {
   "cell_type": "code",
   "execution_count": 4,
   "metadata": {
    "collapsed": true
   },
   "outputs": [],
   "source": [
    "# this time, first formulate the internal gas model as \n",
    "# a differential equation instead of a difference eqn, \n",
    "# still using the model from\n",
    "# https://arxiv.org/abs/astro-ph/0005081"
   ]
  },
  {
   "cell_type": "code",
   "execution_count": 61,
   "metadata": {},
   "outputs": [
    {
     "name": "stderr",
     "output_type": "stream",
     "text": [
      "\n",
      "  0%|          | 0/5901 [00:00<?, ?it/s]\u001b[A\n",
      "100%|██████████| 5901/5901 [00:00<00:00, 405780.60it/s]"
     ]
    },
    {
     "name": "stdout",
     "output_type": "stream",
     "text": [
      "initial conditions: Xh=0.47665712028626894 Xw=0.18443462712849854 Xc= 0.3389082525852325\n"
     ]
    },
    {
     "name": "stderr",
     "output_type": "stream",
     "text": [
      "\u001b[A"
     ]
    },
    {
     "data": {
      "image/png": "[encoded data removed]",
      "text/plain": [
       "<matplotlib.figure.Figure at 0x7fe7ba72f320>"
      ]
     },
     "metadata": {},
     "output_type": "display_data"
    }
   ],
   "source": [
    "# gas is given by the equations\n",
    "\n",
    "Xh = np.random.random()\n",
    "Xw = np.random.random()*(1-Xh)\n",
    "Xc = 1-Xh-Xw\n",
    "print('initial conditions: Xh='+str(Xh)+' Xw='+str(Xw)+' Xc=',str(Xc))\n",
    "time = 0.001 # initial time, in Gyr\n",
    "timearr = np.linspace(0.001,5.901,5901)\n",
    "Xcarr = np.zeros(timearr.shape)\n",
    "Xwarr = np.zeros(timearr.shape)\n",
    "Xharr = np.zeros(timearr.shape)\n",
    "\n",
    "\n",
    "# time goes from 1Myr to 5.9Myr in 1Myr steps?\n",
    "\n",
    "tstep = 0.001\n",
    "\n",
    "# sweeping of warm gas into the cold component at a rate astar(Xw)\n",
    "astar = 0.5 # usually 5e-8 /yr\n",
    "# this term being too big is wrecking the equation\n",
    "\n",
    "# evaporation of cold clouds embedded in the hot gas \n",
    "# at a rate bstar(Xc)(Xh)^2\n",
    "bstar = 0.1 # usually 1e-7 to 1e-8 /yr\n",
    "\n",
    "# radiative cooling of the hot gas by mixing with the ambient warm gas\n",
    "# at a rate cstar(Xw)(Xh)\n",
    "cstar = 0.01  # usually 1e-6 to 1e-7 /yr\n",
    "\n",
    "# additional: sweeping of hot gas into cold gas\n",
    "fstar = 0.0\n",
    "\n",
    "A = astar/cstar\n",
    "B = bstar/cstar\n",
    "F = fstar/cstar\n",
    "\n",
    "for numsteps in tqdm(range(len(timearr))):\n",
    "    \n",
    "    #dtau = cstar*(tsnew - ts)\n",
    "    dtau = cstar*tstep*1e9\n",
    "    dXc = (A*Xw - B*Xc*Xh*Xh + F*Xh)/dtau\n",
    "    dXw = (-A*Xw + Xw*Xh)/dtau\n",
    "    dXh = (B*Xc*Xh*Xh - Xw*Xh - F*Xh)/dtau\n",
    "    #print(dXc, dXh)\n",
    "    Xc = Xc + dXc\n",
    "    Xh = Xh + dXh\n",
    "    Xw = Xw + dXw\n",
    "    if Xc < 0 or Xh < 0 or Xw < 0:\n",
    "        print(Xc-dXc,Xh-dXh,Xw-dXw)\n",
    "        print(dXc,dXh,dXw)\n",
    "        print(Xc,Xh,Xw)\n",
    "        print('iteration number: '+str(numsteps))\n",
    "        break\n",
    "    \n",
    "    # dXc + dXw + dXh = 0, as expected \n",
    "    \n",
    "    Xcarr[numsteps] = Xc\n",
    "    Xharr[numsteps] = Xh\n",
    "    Xwarr[numsteps] = Xw\n",
    "\n",
    "    time = time+tstep\n",
    "    \n",
    "plt.plot(timearr,Xcarr,'k.',label=\"Cold gas\")\n",
    "plt.plot(timearr,Xwarr,'g.',label=\"Warm gas\")\n",
    "plt.plot(timearr,Xharr,'b.',label=\"Hot gas\")\n",
    "plt.legend(bbox_to_anchor=(1.05, 1), loc=2, borderaxespad=0.)\n",
    "\n",
    "plt.axis([0,time,0,1])\n",
    "plt.show()\n"
   ]
  },
  {
   "cell_type": "code",
   "execution_count": null,
   "metadata": {},
   "outputs": [],
   "source": []
  },
  {
   "cell_type": "code",
   "execution_count": 69,
   "metadata": {
    "collapsed": true
   },
   "outputs": [],
   "source": [
    "# and to this add inflows and outflows, from \n",
    "# https://arxiv.org/pdf/1606.07436.pdf  (Mitra, Dave and Finlator (2016))\n",
    "# and https://arxiv.org/pdf/1108.0426.pdf (Dave, Finlator and Oppenheimer (2011))"
   ]
  },
  {
   "cell_type": "code",
   "execution_count": 70,
   "metadata": {
    "collapsed": true
   },
   "outputs": [],
   "source": [
    "# first experiment with stochastic inflows/outflows?\n",
    "# equilibrium model condition: dM_in/dt = dM_out/dt + SFR (ie. dM_stars/dt)\n",
    "\n",
    "# in my current model, SFR = Xc^1.5"
   ]
  },
  {
   "cell_type": "code",
   "execution_count": 88,
   "metadata": {},
   "outputs": [
    {
     "name": "stderr",
     "output_type": "stream",
     "text": [
      "\n",
      "  0%|          | 0/5901 [00:00<?, ?it/s]\u001b[A\n",
      "100%|██████████| 5901/5901 [00:00<00:00, 443304.70it/s]"
     ]
    },
    {
     "name": "stdout",
     "output_type": "stream",
     "text": [
      "initial conditions: Xh=0.2933481238006761 Xw=0.16253083595039705 Xc= 0.5441210402489268\n"
     ]
    },
    {
     "name": "stderr",
     "output_type": "stream",
     "text": [
      "\u001b[A"
     ]
    },
    {
     "data": {
      "image/png": "[encoded data removed]",
      "text/plain": [
       "<matplotlib.figure.Figure at 0x7fe7b9ef5c88>"
      ]
     },
     "metadata": {},
     "output_type": "display_data"
    }
   ],
   "source": [
    "# gas is given by the equations\n",
    "\n",
    "Xh = np.random.random()\n",
    "Xw = np.random.random()*(1-Xh)\n",
    "Xc = 1-Xh-Xw\n",
    "print('initial conditions: Xh='+str(Xh)+' Xw='+str(Xw)+' Xc=',str(Xc))\n",
    "time = 0.001 # initial time, in Gyr\n",
    "timearr = np.linspace(0.001,5.901,5901)\n",
    "Xcarr = np.zeros(timearr.shape)\n",
    "Xwarr = np.zeros(timearr.shape)\n",
    "Xharr = np.zeros(timearr.shape)\n",
    "\n",
    "\n",
    "# time goes from 1Myr to 5.9Myr in 1Myr steps?\n",
    "\n",
    "tstep = 0.001\n",
    "\n",
    "# sweeping of warm gas into the cold component at a rate astar(Xw)\n",
    "astar = 0.5 # usually 5e-8 /yr\n",
    "# this term being too big is wrecking the equation\n",
    "\n",
    "# evaporation of cold clouds embedded in the hot gas \n",
    "# at a rate bstar(Xc)(Xh)^2\n",
    "bstar = 0.05 # usually 1e-7 to 1e-8 /yr\n",
    "\n",
    "# radiative cooling of the hot gas by mixing with the ambient warm gas\n",
    "# at a rate cstar(Xw)(Xh)\n",
    "cstar = 0.01  # usually 1e-6 to 1e-7 /yr\n",
    "\n",
    "# additional: sweeping of hot gas into cold gas\n",
    "fstar = 0.0\n",
    "\n",
    "A = astar/cstar\n",
    "B = bstar/cstar\n",
    "F = fstar/cstar\n",
    "\n",
    "for numsteps in tqdm(range(len(timearr))):\n",
    "    \n",
    "    #dtau = cstar*(tsnew - ts)\n",
    "    dtau = cstar*tstep*1e9\n",
    "    dXc = (A*Xw - B*Xc*Xh*Xh + F*Xh)/dtau\n",
    "    dXw = (-A*Xw + Xw*Xh)/dtau\n",
    "    dXh = (B*Xc*Xh*Xh - Xw*Xh - F*Xh)/dtau\n",
    "    #print(dXc, dXh)\n",
    "    Xc = Xc + dXc\n",
    "    Xh = Xh + dXh\n",
    "    Xw = Xw + dXw\n",
    "    \n",
    "    # dXc + dXw + dXh = 0, as expected \n",
    "    \n",
    "    if Xc < 0 or Xh < 0 or Xw < 0:\n",
    "        print(Xc-dXc,Xh-dXh,Xw-dXw)\n",
    "        print(dXc,dXh,dXw)\n",
    "        print(Xc,Xh,Xw)\n",
    "        print('iteration number: '+str(numsteps))\n",
    "        break\n",
    "        \n",
    "    # add inflow/outflow conditions here\n",
    "    \n",
    "    # event trigger - currently delta function, \n",
    "    # try smoothing it out over some baryon cycling timescale\n",
    "    if np.random.random() > np.random.random()*50:\n",
    "    # currently just inflow of cold gas\n",
    "        #Xc = Xc*(1 + np.random.random()/100)\n",
    "    # now try inflows and outflows of cold gas\n",
    "        delta_gas = np.random.normal()/100\n",
    "        if Xc < delta_gas:\n",
    "            Xc = Xc + np.abs(delta_gas)\n",
    "        else:\n",
    "            if np.random.random() > 0.5:\n",
    "                Xc = Xc + delta_gas\n",
    "            else:\n",
    "                Xc = Xc - delta_gas\n",
    "            \n",
    "    \n",
    "    Xcarr[numsteps] = Xc\n",
    "    Xharr[numsteps] = Xh\n",
    "    Xwarr[numsteps] = Xw\n",
    "\n",
    "    time = time+tstep\n",
    "    \n",
    "plt.plot(timearr,Xcarr,'r.',label=\"Cold gas\")\n",
    "plt.plot(timearr,Xwarr,'g.',label=\"Warm gas\")\n",
    "plt.plot(timearr,Xharr,'b.',label=\"Hot gas\")\n",
    "plt.plot(timearr,Xcarr+Xwarr+Xharr,'k.',label=\"Total gas\")\n",
    "plt.legend(bbox_to_anchor=(1.05, 1), loc=2, borderaxespad=0.)\n",
    "\n",
    "plt.axis([0,time,0,np.amax(Xcarr+Xwarr+Xharr)])\n",
    "plt.show()\n"
   ]
  },
  {
   "cell_type": "code",
   "execution_count": 104,
   "metadata": {},
   "outputs": [
    {
     "name": "stderr",
     "output_type": "stream",
     "text": [
      "\n",
      "  0%|          | 0/5901 [00:00<?, ?it/s]\u001b[A\n",
      "100%|██████████| 5901/5901 [00:00<00:00, 305408.22it/s]"
     ]
    },
    {
     "name": "stdout",
     "output_type": "stream",
     "text": [
      "initial conditions: Xh=0.45614699459865327 Xw=0.15015120852498376 Xc= 0.393701796876363\n"
     ]
    },
    {
     "name": "stderr",
     "output_type": "stream",
     "text": [
      "\u001b[A"
     ]
    },
    {
     "data": {
      "image/png": "[encoded data removed]",
      "text/plain": [
       "<matplotlib.figure.Figure at 0x7fe7b9befa20>"
      ]
     },
     "metadata": {},
     "output_type": "display_data"
    }
   ],
   "source": [
    "# gas is given by the equations\n",
    "\n",
    "Xh = np.random.random()\n",
    "Xw = np.random.random()*(1-Xh)\n",
    "Xc = 1-Xh-Xw\n",
    "print('initial conditions: Xh='+str(Xh)+' Xw='+str(Xw)+' Xc=',str(Xc))\n",
    "time = 0.001 # initial time, in Gyr\n",
    "timearr = np.linspace(0.001,5.901,5901)\n",
    "Xcarr = np.zeros(timearr.shape)\n",
    "Xwarr = np.zeros(timearr.shape)\n",
    "Xharr = np.zeros(timearr.shape)\n",
    "\n",
    "\n",
    "# time goes from 1Myr to 5.9Myr in 1Myr steps?\n",
    "\n",
    "tstep = 0.001\n",
    "\n",
    "# sweeping of warm gas into the cold component at a rate astar(Xw)\n",
    "astar = 0.5 # usually 5e-8 /yr\n",
    "# this term being too big is wrecking the equation\n",
    "\n",
    "# evaporation of cold clouds embedded in the hot gas \n",
    "# at a rate bstar(Xc)(Xh)^2\n",
    "bstar = 0.05 # usually 1e-7 to 1e-8 /yr\n",
    "\n",
    "# radiative cooling of the hot gas by mixing with the ambient warm gas\n",
    "# at a rate cstar(Xw)(Xh)\n",
    "cstar = 0.01  # usually 1e-6 to 1e-7 /yr\n",
    "\n",
    "# additional: sweeping of hot gas into cold gas\n",
    "fstar = 0.0\n",
    "\n",
    "A = astar/cstar\n",
    "B = bstar/cstar\n",
    "F = fstar/cstar\n",
    "\n",
    "for numsteps in tqdm(range(len(timearr))):\n",
    "    \n",
    "    #dtau = cstar*(tsnew - ts)\n",
    "    dtau = cstar*tstep*1e9\n",
    "    dXc = (A*Xw - B*Xc*Xh*Xh + F*Xh)/dtau\n",
    "    dXw = (-A*Xw + Xw*Xh)/dtau\n",
    "    dXh = (B*Xc*Xh*Xh - Xw*Xh - F*Xh)/dtau\n",
    "    #print(dXc, dXh)\n",
    "    Xc = Xc + dXc\n",
    "    Xh = Xh + dXh\n",
    "    Xw = Xw + dXw\n",
    "    \n",
    "    # dXc + dXw + dXh = 0, as expected \n",
    "    \n",
    "    if Xc < 0 or Xh < 0 or Xw < 0:\n",
    "        print(Xc-dXc,Xh-dXh,Xw-dXw)\n",
    "        print(dXc,dXh,dXw)\n",
    "        print(Xc,Xh,Xw)\n",
    "        print('iteration number: '+str(numsteps))\n",
    "        break\n",
    "        \n",
    "    # add inflow/outflow conditions here\n",
    "    \n",
    "    # event trigger - currently delta function, \n",
    "    # try smoothing it out over some baryon cycling timescale\n",
    "    if np.random.random() > np.random.random()*50:\n",
    "    # currently just inflow of cold gas\n",
    "        #Xc = Xc*(1 + np.random.random()/100)\n",
    "    # now try inflows and outflows of cold gas\n",
    "        delta_gas = np.random.normal()/100\n",
    "        if Xc < delta_gas:\n",
    "            Xc = Xc + np.abs(delta_gas)\n",
    "        else:\n",
    "            if np.random.random() > 0.5:\n",
    "                Xc = Xc + delta_gas\n",
    "            else:\n",
    "                Xc = Xc - delta_gas\n",
    "                \n",
    "    if Xh > Xc and Xh > Xw:\n",
    "        if np.random.random() > np.random.random()*100:\n",
    "            Xh = Xh*(1-np.random.random()/10)\n",
    "            \n",
    "    \n",
    "    Xcarr[numsteps] = Xc\n",
    "    Xharr[numsteps] = Xh\n",
    "    Xwarr[numsteps] = Xw\n",
    "\n",
    "    time = time+tstep\n",
    "    \n",
    "plt.plot(timearr,Xcarr,'r',label=\"Cold gas\")\n",
    "plt.plot(timearr,Xwarr,'g',label=\"Warm gas\")\n",
    "plt.plot(timearr,Xharr,'b',label=\"Hot gas\")\n",
    "plt.plot(timearr,Xcarr+Xwarr+Xharr,'k',label=\"Total gas\")\n",
    "plt.legend(bbox_to_anchor=(1.05, 1), loc=2, borderaxespad=0.)\n",
    "\n",
    "plt.axis([0,time,0,np.amax(Xcarr+Xwarr+Xharr)])\n",
    "plt.show()\n"
   ]
  },
  {
   "cell_type": "code",
   "execution_count": 109,
   "metadata": {},
   "outputs": [
    {
     "name": "stderr",
     "output_type": "stream",
     "text": [
      "\n",
      "\r",
      "  0%|          | 0/5901 [00:00<?, ?it/s]"
     ]
    },
    {
     "name": "stdout",
     "output_type": "stream",
     "text": [
      "initial conditions: Xh=0.5280097969512588 Xw=0.38061641910292954 Xc= 0.09137378394581164\n",
      "-0.024779970939589155 0.6302461701770273 0.0006039791086131901\n",
      "7.941324583452261e-06 -4.959494592393351e-06 -2.9818299910589108e-06\n",
      "-0.024772029615005704 0.630241210682435 0.0006009972786221312\n",
      "iteration number: 1301\n"
     ]
    },
    {
     "name": "stderr",
     "output_type": "stream",
     "text": [
      "\u001b[A\n",
      "\u001b[A"
     ]
    },
    {
     "data": {
      "image/png": "[encoded data removed]",
      "text/plain": [
       "<matplotlib.figure.Figure at 0x7fe7b982d438>"
      ]
     },
     "metadata": {},
     "output_type": "display_data"
    }
   ],
   "source": [
    "# gas is given by the equations\n",
    "\n",
    "Xh = np.random.random()\n",
    "Xw = np.random.random()*(1-Xh)\n",
    "Xc = 1-Xh-Xw\n",
    "print('initial conditions: Xh='+str(Xh)+' Xw='+str(Xw)+' Xc=',str(Xc))\n",
    "time = 0.001 # initial time, in Gyr\n",
    "timearr = np.linspace(0.001,5.901,5901)\n",
    "Xcarr = np.zeros(timearr.shape)\n",
    "Xwarr = np.zeros(timearr.shape)\n",
    "Xharr = np.zeros(timearr.shape)\n",
    "\n",
    "\n",
    "# time goes from 1Myr to 5.9Myr in 1Myr steps?\n",
    "\n",
    "tstep = 0.001\n",
    "\n",
    "# sweeping of warm gas into the cold component at a rate astar(Xw)\n",
    "astar = 0.5 # usually 5e-8 /yr\n",
    "# this term being too big is wrecking the equation\n",
    "\n",
    "# evaporation of cold clouds embedded in the hot gas \n",
    "# at a rate bstar(Xc)(Xh)^2\n",
    "bstar = 0.05 # usually 1e-7 to 1e-8 /yr\n",
    "\n",
    "# radiative cooling of the hot gas by mixing with the ambient warm gas\n",
    "# at a rate cstar(Xw)(Xh)\n",
    "cstar = 0.01  # usually 1e-6 to 1e-7 /yr\n",
    "\n",
    "# additional: sweeping of hot gas into cold gas\n",
    "fstar = 0.0\n",
    "\n",
    "A = astar/cstar\n",
    "B = bstar/cstar\n",
    "F = fstar/cstar\n",
    "\n",
    "for numsteps in tqdm(range(len(timearr))):\n",
    "    \n",
    "    #dtau = cstar*(tsnew - ts)\n",
    "    dtau = cstar*tstep*1e9\n",
    "    dXc = (A*Xw - B*Xc*Xh*Xh + F*Xh)/dtau\n",
    "    dXw = (-A*Xw + Xw*Xh)/dtau\n",
    "    dXh = (B*Xc*Xh*Xh - Xw*Xh - F*Xh)/dtau\n",
    "    #print(dXc, dXh)\n",
    "    Xc = Xc + dXc\n",
    "    Xh = Xh + dXh\n",
    "    Xw = Xw + dXw\n",
    "    \n",
    "    # dXc + dXw + dXh = 0, as expected \n",
    "    \n",
    "    if Xc < 0 or Xh < 0 or Xw < 0:\n",
    "        print(Xc-dXc,Xh-dXh,Xw-dXw)\n",
    "        print(dXc,dXh,dXw)\n",
    "        print(Xc,Xh,Xw)\n",
    "        print('iteration number: '+str(numsteps))\n",
    "        break\n",
    "        \n",
    "    # add inflow/outflow conditions here\n",
    "    \n",
    "    # event trigger - currently delta function, \n",
    "    # try smoothing it out over some baryon cycling timescale\n",
    "    if np.random.random() > np.random.random()*50:\n",
    "    # currently just inflow of cold gas\n",
    "        #Xc = Xc*(1 + np.random.random()/100)\n",
    "    # now try inflows and outflows of cold gas\n",
    "        delta_gas = np.random.normal()/10\n",
    "        if Xc < delta_gas:\n",
    "            Xc = Xc + np.abs(delta_gas)\n",
    "        else:\n",
    "            if np.random.random() > 0.5:\n",
    "                Xc = Xc + delta_gas\n",
    "            else:\n",
    "                Xc = Xc - delta_gas\n",
    "                \n",
    "    if Xh > Xc and Xh > Xw:\n",
    "        if np.random.random() > np.random.random()*300:\n",
    "            Xh = Xh*(1-np.random.random()/3)\n",
    "            \n",
    "    \n",
    "    Xcarr[numsteps] = Xc\n",
    "    Xharr[numsteps] = Xh\n",
    "    Xwarr[numsteps] = Xw\n",
    "\n",
    "    time = time+tstep\n",
    "    \n",
    "plt.plot(timearr,Xcarr,'r',label=\"Cold gas\")\n",
    "plt.plot(timearr,Xwarr,'g',label=\"Warm gas\")\n",
    "plt.plot(timearr,Xharr,'b',label=\"Hot gas\")\n",
    "plt.plot(timearr,Xcarr+Xwarr+Xharr,'k',label=\"Total gas\")\n",
    "plt.legend(bbox_to_anchor=(1.05, 1), loc=2, borderaxespad=0.)\n",
    "\n",
    "plt.axis([0,time,0,np.amax(Xcarr+Xwarr+Xharr)])\n",
    "plt.show()\n"
   ]
  },
  {
   "cell_type": "code",
   "execution_count": 180,
   "metadata": {},
   "outputs": [
    {
     "name": "stderr",
     "output_type": "stream",
     "text": [
      "\n",
      "  0%|          | 0/5901 [00:00<?, ?it/s]\u001b[A\n",
      "100%|██████████| 5901/5901 [00:00<00:00, 110375.93it/s]"
     ]
    },
    {
     "name": "stdout",
     "output_type": "stream",
     "text": [
      "initial conditions: Xh=0.4715169858251177 Xw=0.11753761711921382 Xc= 0.41094539705566846\n"
     ]
    },
    {
     "name": "stderr",
     "output_type": "stream",
     "text": [
      "\u001b[A"
     ]
    },
    {
     "data": {
      "image/png": "[encoded data removed]",
      "text/plain": [
       "<matplotlib.figure.Figure at 0x7fe7ba699940>"
      ]
     },
     "metadata": {},
     "output_type": "display_data"
    }
   ],
   "source": [
    "# gas is given by the equations\n",
    "\n",
    "Xh = np.random.random()\n",
    "Xw = np.random.random()*(1-Xh)\n",
    "Xc = 1-Xh-Xw\n",
    "print('initial conditions: Xh='+str(Xh)+' Xw='+str(Xw)+' Xc=',str(Xc))\n",
    "time = 0.001 # initial time, in Gyr\n",
    "timearr = np.linspace(0.001,5.901,5901)\n",
    "Xcarr = np.zeros(timearr.shape)\n",
    "Xwarr = np.zeros(timearr.shape)\n",
    "Xharr = np.zeros(timearr.shape)\n",
    "\n",
    "\n",
    "# time goes from 1Myr to 5.9Myr in 1Myr steps?\n",
    "\n",
    "tstep = 0.001\n",
    "\n",
    "# sweeping of warm gas into the cold component at a rate astar(Xw)\n",
    "astar = 0.5 # usually 5e-8 /yr\n",
    "# this term being too big is wrecking the equation\n",
    "\n",
    "# evaporation of cold clouds embedded in the hot gas \n",
    "# at a rate bstar(Xc)(Xh)^2\n",
    "bstar = 0.05 # usually 1e-7 to 1e-8 /yr\n",
    "\n",
    "# radiative cooling of the hot gas by mixing with the ambient warm gas\n",
    "# at a rate cstar(Xw)(Xh)\n",
    "cstar = 0.01  # usually 1e-6 to 1e-7 /yr\n",
    "\n",
    "# additional: sweeping of hot gas into cold gas\n",
    "fstar = 0.0\n",
    "\n",
    "A = astar/cstar\n",
    "B = bstar/cstar\n",
    "F = fstar/cstar\n",
    "\n",
    "counter_in = 1\n",
    "counter_out = 1 \n",
    "\n",
    "for numsteps in tqdm(range(len(timearr))):\n",
    "    \n",
    "    #dtau = cstar*(tsnew - ts)\n",
    "    dtau = cstar*tstep*1e9\n",
    "    dXc = (A*Xw - B*Xc*Xh*Xh + F*Xh)/dtau\n",
    "    dXw = (-A*Xw + Xw*Xh)/dtau\n",
    "    dXh = (B*Xc*Xh*Xh - Xw*Xh - F*Xh)/dtau\n",
    "    #print(dXc, dXh)\n",
    "    Xc = Xc + dXc\n",
    "    Xh = Xh + dXh\n",
    "    Xw = Xw + dXw\n",
    "    \n",
    "    # dXc + dXw + dXh = 0, as expected \n",
    "    \n",
    "    if Xc < 0 or Xh < 0 or Xw < 0:\n",
    "        print(Xc-dXc,Xh-dXh,Xw-dXw)\n",
    "        print(dXc,dXh,dXw)\n",
    "        print(Xc,Xh,Xw)\n",
    "        print('iteration number: '+str(numsteps))\n",
    "        break\n",
    "        \n",
    "    # add inflow/outflow conditions here\n",
    "    \n",
    "    # event trigger - currently delta function, \n",
    "    # try smoothing it out over some baryon cycling timescale\n",
    "    ts1 = 200\n",
    "    ts2 = 20\n",
    "    # start a counter and do something for that timescale\n",
    "    \n",
    "    if np.random.random() > np.random.random()*300:\n",
    "    # currently just inflow of cold gas\n",
    "        #Xc = Xc*(1 + np.random.random()/100)\n",
    "    # now try inflows and outflows of cold gas\n",
    "        delta_gas_in = np.random.random()/100\n",
    "        counter_in = counter_in + ts1\n",
    "        \n",
    "                \n",
    "    if Xh > Xc and Xh > Xw:\n",
    "        if np.random.random() > np.random.random()*50:\n",
    "            delta_gas_out = np.random.random()/10\n",
    "            counter_out = counter_out + ts1\n",
    "            \n",
    "    if counter_in > 1:\n",
    "        tsfc = ts1-counter_in\n",
    "        Xc = Xc*(1 + delta_gas_in*tsfc*np.exp(-tsfc/ts2)/7)\n",
    "        counter_in = counter_in -1\n",
    "        \n",
    "    if counter_out > 1:\n",
    "        tsfc = tsfc-counter_out\n",
    "        Xh = Xh*(1 - delta_gas_out*np.exp(-(tsfc-(ts2*4))*(tsfc-(ts2*4))/(2*ts2*ts2)))\n",
    "        counter_out = counter_out -1\n",
    "    \n",
    "            \n",
    "            #Xh = Xh*(1-np.random.random()/3)\n",
    "            \n",
    "    \n",
    "    Xcarr[numsteps] = Xc\n",
    "    Xharr[numsteps] = Xh\n",
    "    Xwarr[numsteps] = Xw\n",
    "\n",
    "    time = time+tstep\n",
    "    \n",
    "plt.plot(timearr,Xcarr,'b',label=\"Cold gas\")\n",
    "plt.plot(timearr,Xwarr,'g',label=\"Warm gas\")\n",
    "plt.plot(timearr,Xharr,'r',label=\"Hot gas\")\n",
    "plt.plot(timearr,Xcarr+Xwarr+Xharr,'k',label=\"Total gas\")\n",
    "plt.legend(bbox_to_anchor=(1.05, 1), loc=2, borderaxespad=0.)\n",
    "\n",
    "plt.axis([0,time,0,np.amax(Xcarr+Xwarr+Xharr)])\n",
    "plt.show()\n"
   ]
  },
  {
   "cell_type": "code",
   "execution_count": 161,
   "metadata": {},
   "outputs": [],
   "source": [
    "# we could use equation (11) from Dave, Finlator and Oppenheimer (2011):\n",
    "# SFR = (\\xi * dM_grav/dt)/(1+\\eta)(1-\\alpha z)\n",
    "# - equation that delineates how galaxy SFRs are governed by accretion and feedback processes: ie. baryon cycling"
   ]
  },
  {
   "cell_type": "code",
   "execution_count": 181,
   "metadata": {},
   "outputs": [
    {
     "data": {
      "image/png": "[encoded data removed]",
      "text/plain": [
       "<matplotlib.figure.Figure at 0x7fe7b8b95b38>"
      ]
     },
     "metadata": {},
     "output_type": "display_data"
    }
   ],
   "source": [
    "tar = np.arange(200)\n",
    "plt.plot(tar*np.exp(-tar/20)/7)           # inflow smoothing\n",
    "plt.plot(np.exp(-(tar-80)*(tar-80)/800))  # outflow smoothing\n",
    "plt.show()"
   ]
  },
  {
   "cell_type": "code",
   "execution_count": null,
   "metadata": {},
   "outputs": [],
   "source": []
  },
  {
   "cell_type": "code",
   "execution_count": 200,
   "metadata": {},
   "outputs": [
    {
     "name": "stdout",
     "output_type": "stream",
     "text": [
      "0.410019820294\n",
      "357168172.951\n",
      "1.0\n",
      "3.433760642\n"
     ]
    },
    {
     "ename": "NameError",
     "evalue": "name 'dMgrav' is not defined",
     "output_type": "error",
     "traceback": [
      "\u001b[0;31m---------------------------------------------------------------------------\u001b[0m",
      "\u001b[0;31mNameError\u001b[0m                                 Traceback (most recent call last)",
      "\u001b[0;32m<ipython-input-200-ad60f70e7b6b>\u001b[0m in \u001b[0;36m<module>\u001b[0;34m()\u001b[0m\n\u001b[1;32m     27\u001b[0m \u001b[0mprint\u001b[0m\u001b[0;34m(\u001b[0m\u001b[0mnp\u001b[0m\u001b[0;34m.\u001b[0m\u001b[0mpower\u001b[0m\u001b[0;34m(\u001b[0m\u001b[0;34m(\u001b[0m\u001b[0mMh\u001b[0m\u001b[0;34m/\u001b[0m\u001b[0mMq\u001b[0m\u001b[0;34m)\u001b[0m\u001b[0;34m,\u001b[0m\u001b[0mxi1\u001b[0m\u001b[0;34m)\u001b[0m\u001b[0;34m)\u001b[0m\u001b[0;34m\u001b[0m\u001b[0m\n\u001b[1;32m     28\u001b[0m \u001b[0;34m\u001b[0m\u001b[0m\n\u001b[0;32m---> 29\u001b[0;31m \u001b[0mSFR\u001b[0m \u001b[0;34m=\u001b[0m \u001b[0;34m(\u001b[0m\u001b[0mxi\u001b[0m\u001b[0;34m*\u001b[0m\u001b[0mdMgrav\u001b[0m \u001b[0;34m+\u001b[0m \u001b[0mdMrecyc\u001b[0m\u001b[0;34m)\u001b[0m\u001b[0;34m/\u001b[0m\u001b[0;34m(\u001b[0m\u001b[0;34m(\u001b[0m\u001b[0;36m1\u001b[0m\u001b[0;34m+\u001b[0m\u001b[0meta\u001b[0m\u001b[0;34m)\u001b[0m\u001b[0;34m)\u001b[0m\u001b[0;34m\u001b[0m\u001b[0m\n\u001b[0m",
      "\u001b[0;31mNameError\u001b[0m: name 'dMgrav' is not defined"
     ]
    }
   ],
   "source": [
    "# eta     = ejective feedback\n",
    "# xi      = preventive feedback\n",
    "# alpha_z = reaccretion of ejected material = dM_recyc/dt/xi\n",
    "# dMrecyc = accretion rate of the material that was previously ejected in outflows\n",
    "# dMgrav  = gravitational infall rate of baryons into halo \n",
    "#           set by \\LambdaCDM, ISM gas depletion timescale, and metal yield (to first order)\n",
    "# trec    = wind recycling time \n",
    "z = 1.0\n",
    "Mh = 1e12\n",
    "eta1 = 10.85 + np.random.normal(0,0.06)\n",
    "eta2 = 0.81 + np.random.normal(0,0.07)\n",
    "eta3 = -1.15 + np.random.normal(0,0.07)\n",
    "eta = np.power((Mh/np.power(10,eta1+eta2*np.sqrt(z))),eta3)\n",
    "print(eta)\n",
    "\n",
    "tau1 = 1.12 + np.random.normal(0.24)\n",
    "tau2 = -0.62 + np.random.normal(0.11)\n",
    "tau3 = -0.47 + np.random.normal(0.05)\n",
    "trec = tau1*1e9*np.power(1+z,tau2)*np.power((Mh/1e12),tau3)\n",
    "print(trec)\n",
    "\n",
    "xi1 = -0.45 + np.random.normal(0.07)\n",
    "xi2 = 0.51 + np.random.normal(0.15)\n",
    "Mq = (0.96 + xi2*z)*1e12\n",
    "xi = np.amin([1,np.power((Mh/Mq),xi1)])\n",
    "print(xi)\n",
    "print(np.power((Mh/Mq),xi1))\n",
    "\n",
    "#SFR = (xi*dMgrav + dMrecyc)/((1+eta))\n",
    "#Z = y*SFR/(xi*dMgrav)\n",
    "\n",
    "# does this need to be changed from Halo mass to Stellar mass using some SMHM-esque thing?\n",
    "\n",
    "# once we have some way of getting an initial Mgrav, we can then propagate it further to get SFHs\n",
    "# Mrecyc comes from dMgrav at t' = t-t_rec\n",
    "# perhaps choose "
   ]
  },
  {
   "cell_type": "code",
   "execution_count": null,
   "metadata": {
    "collapsed": true
   },
   "outputs": [],
   "source": []
  }
 ],
 "metadata": {
  "kernelspec": {
   "display_name": "Python [default]",
   "language": "python",
   "name": "python3"
  },
  "language_info": {
   "codemirror_mode": {
    "name": "ipython",
    "version": 3
   },
   "file_extension": ".py",
   "mimetype": "text/x-python",
   "name": "python",
   "nbconvert_exporter": "python",
   "pygments_lexer": "ipython3",
   "version": "3.5.3"
  }
 },
 "nbformat": 4,
 "nbformat_minor": 2
}
